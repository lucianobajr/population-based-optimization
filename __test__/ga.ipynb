{
 "cells": [
  {
   "cell_type": "code",
   "execution_count": 3,
   "metadata": {},
   "outputs": [],
   "source": [
    "from ga import GeneticAlgorithm"
   ]
  },
  {
   "cell_type": "code",
   "execution_count": 5,
   "metadata": {},
   "outputs": [
    {
     "name": "stdout",
     "output_type": "stream",
     "text": [
      "Melhor solução encontrada:\n",
      "Cromossomo: [0.9981692618794294, 0.9877879173553962, 0.9981227487649794, 0.08054961313292719, 0.9028382366247905, 0.9326032526016124, 0.6131941102225924, 0.9973236729175847, 0.9166565462289902, 0.8976202349319357, 0.9951219405961388, 0.9532195248037979, 0.9041866609580194]\n",
      "Valor de fitness: -7.663637008283093\n"
     ]
    }
   ],
   "source": [
    "# Exemplo de uso\n",
    "population_size = 100\n",
    "mutation_rate = 0.1\n",
    "generations = 100\n",
    "\n",
    "algorithm = GeneticAlgorithm(population_size, mutation_rate, generations)\n",
    "best_solution = algorithm.evolve()\n",
    "\n",
    "# Imprime a melhor solução encontrada\n",
    "print(\"Melhor solução encontrada:\")\n",
    "print(\"Cromossomo:\", best_solution.chromosome)\n",
    "print(\"Valor de fitness:\", best_solution.fitness)"
   ]
  },
  {
   "cell_type": "code",
   "execution_count": null,
   "metadata": {},
   "outputs": [],
   "source": []
  }
 ],
 "metadata": {
  "kernelspec": {
   "display_name": "base",
   "language": "python",
   "name": "python3"
  },
  "language_info": {
   "codemirror_mode": {
    "name": "ipython",
    "version": 3
   },
   "file_extension": ".py",
   "mimetype": "text/x-python",
   "name": "python",
   "nbconvert_exporter": "python",
   "pygments_lexer": "ipython3",
   "version": "3.9.16"
  },
  "orig_nbformat": 4
 },
 "nbformat": 4,
 "nbformat_minor": 2
}
