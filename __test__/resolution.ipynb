{
 "cells": [
  {
   "cell_type": "code",
   "execution_count": null,
   "metadata": {},
   "outputs": [
    {
     "ename": "",
     "evalue": "",
     "output_type": "error",
     "traceback": [
      "\u001b[1;31mFailed to start the Kernel. \n",
      "\u001b[1;31mUnable to start Kernel 'base (Python 3.9.16)' due to a timeout waiting for the ports to get used. \n",
      "\u001b[1;31mView Jupyter <a href='command:jupyter.viewOutput'>log</a> for further details."
     ]
    }
   ],
   "source": [
    "from pg import GeneticProgramming\n",
    "\n",
    "import matplotlib.pyplot as plt\n",
    "import seaborn as sns\n",
    "import pandas as pd\n",
    "import numpy as np\n",
    "import statistics\n",
    "import random\n",
    "import math\n",
    "\n",
    "sns.set()"
   ]
  },
  {
   "cell_type": "code",
   "execution_count": 14,
   "metadata": {},
   "outputs": [
    {
     "name": "stdout",
     "output_type": "stream",
     "text": [
      "Configuration A: Statyc Penalty\n",
      "Run   Mean       Min        Max        Std Dev   \n",
      "1     -12.1017   -13.8361   -1.8780    2.4918    \n",
      "2     -12.0856   -13.7795   -3.0069    2.1943    \n",
      "3     -12.1409   -13.8770   -3.0097    1.8657    \n",
      "4     -12.8929   -14.5028   -3.2117    2.0864    \n",
      "5     -12.1870   -14.6588   -2.7118    2.4134    \n",
      "6     -12.6497   -14.1410   -4.7452    1.9514    \n",
      "7     -10.7492   -11.9522   -3.2993    1.6766    \n",
      "8     -12.7775   -13.9090   -4.7409    1.9998    \n",
      "9     -12.1329   -14.1697   -3.3100    2.0260    \n",
      "10    -12.3993   -14.4827   -3.2534    2.1004    \n",
      "11    -12.9025   -14.2903   -3.9807    2.1095    \n",
      "12    -12.6486   -14.2219   -2.9627    2.2058    \n",
      "13    -12.3378   -14.1936   -3.0330    2.5040    \n",
      "14    -11.6633   -13.2265   -3.6248    2.1051    \n",
      "15    -12.9151   -14.3844   -2.8957    2.3506    \n",
      "16    -12.6045   -13.8683   -3.1410    2.1149    \n",
      "17    -12.5265   -14.2102   -3.3480    2.0904    \n",
      "18    -11.6715   -14.2928   -3.4884    2.0939    \n",
      "19    -12.5885   -14.2580   -5.6194    2.2352    \n",
      "20    -12.1207   -14.2555   -2.6864    2.5851    \n",
      "21    -12.4714   -13.7583   -3.0648    2.2308    \n",
      "22    -12.4192   -14.4516   -2.8800    2.5194    \n",
      "23    -12.5657   -14.5296   -3.0578    2.3358    \n",
      "24    -12.8243   -14.3890   -3.3560    2.3321    \n",
      "25    -12.6993   -14.1584   -3.7407    2.1773    \n",
      "26    -12.7492   -14.1802   -4.6028    1.9544    \n",
      "27    -10.5276   -11.3442   -2.9393    1.5414    \n",
      "28    -12.8790   -14.0569   -3.4461    1.8548    \n",
      "29    -11.8588   -13.7036   -2.1470    2.4904    \n",
      "30    -11.8954   -13.6083   -2.2888    2.0251    \n",
      "\n",
      "Configuration B: ɛ-constrained method\n",
      "Run   Mean       Min        Max        Std Dev   \n",
      "1     -12.9820   -14.2203   -2.4522    2.2533    \n",
      "2     -12.5000   -14.3985   -2.6879    2.4133    \n",
      "3     -12.1104   -13.9936   -2.9091    2.6214    \n",
      "4     -12.5750   -14.6914   -2.6671    2.5167    \n",
      "5     -12.2057   -14.0895   -3.6002    2.0931    \n",
      "6     -11.8345   -14.1239   -3.3584    2.2425    \n",
      "7     -12.2124   -13.9700   -2.5625    2.3323    \n",
      "8     -10.9170   -12.1423   -2.8056    1.8534    \n",
      "9     -10.4194   -11.3876   -2.5525    1.7512    \n",
      "10    -12.0399   -13.9174   -2.2609    2.4793    \n",
      "11    -12.3547   -13.8302   -3.0253    2.1603    \n",
      "12    -12.3770   -13.8594   -3.1499    2.2591    \n",
      "13    -12.5522   -13.8411   -3.1522    2.0468    \n",
      "14    -12.4090   -13.7880   -3.2374    2.1193    \n",
      "15    -12.2123   -13.8986   -2.6028    2.2847    \n",
      "16    -12.4357   -14.6815   -3.5628    2.1470    \n",
      "17    -12.5198   -13.9493   -2.9538    2.2992    \n",
      "18    -11.8214   -14.1322   -3.2636    2.6164    \n",
      "19    -12.3604   -14.3942   -2.6755    2.3568    \n",
      "20    -13.0209   -14.3483   -3.5209    2.1027    \n",
      "21    -13.2034   -14.4719   -2.0884    2.3684    \n",
      "22    -12.6321   -14.4909   -3.8653    2.1978    \n",
      "23    -11.0081   -12.1124   -2.8608    1.3802    \n",
      "24    -12.7597   -14.0438   -2.6413    2.1728    \n",
      "25    -12.5599   -14.0748   -2.4507    1.9705    \n",
      "26    -11.8873   -14.3867   -2.8694    2.3940    \n",
      "27    -12.0464   -13.7597   -4.1548    1.9901    \n",
      "28    -12.1270   -14.2623   -2.3270    2.6238    \n",
      "29    -11.0266   -11.7655   -3.4157    1.2599    \n",
      "30    -12.4114   -13.9444   -3.7862    2.0862    \n"
     ]
    }
   ],
   "source": [
    "# Configuration A: Static Penalty \n",
    "gp_a = GeneticProgramming(pop_size=100, num_generations=100, tournament_size=10, mutation_rate=0.125, penalty_method=\"static_penalty\")\n",
    "results_a = []\n",
    "for _ in range(30):\n",
    "    best_solutions_a = gp_a.run()\n",
    "    results_a.append([gp_a.evaluate(solution) for solution in best_solutions_a])\n",
    "\n",
    "# Configuration B: ɛ-constrained method\n",
    "gp_b = GeneticProgramming(pop_size=100, num_generations=100, tournament_size=10, mutation_rate=0.125, penalty_method=\"epsilon_constraint\")\n",
    "results_b = []\n",
    "for _ in range(30):\n",
    "    best_solutions_b = gp_b.run()\n",
    "    results_b.append([gp_b.evaluate(solution) for solution in best_solutions_b])\n",
    "\n",
    "# Configuration A: Static Penalty \n",
    "table_a = []\n",
    "for i, result in enumerate(results_a):\n",
    "    row = [i + 1, statistics.mean(result), min(result), max(result), statistics.stdev(result)]\n",
    "    table_a.append(row)\n",
    "\n",
    "# Configuration B: ɛ-constrained method\n",
    "table_b = []\n",
    "for i, result in enumerate(results_b):\n",
    "    row = [i + 1, statistics.mean(result), min(result), max(result), statistics.stdev(result)]\n",
    "    table_b.append(row)\n",
    "\n",
    "# Print the table\n",
    "print(\"Configuration A: Statyc Penalty\")\n",
    "print(\"{:<5s} {:<10s} {:<10s} {:<10s} {:<10s}\".format(\"Run\", \"Mean\", \"Min\", \"Max\", \"Std Dev\"))\n",
    "for row in table_a:\n",
    "    print(\"{:<5d} {:<10.4f} {:<10.4f} {:<10.4f} {:<10.4f}\".format(*row))\n",
    "\n",
    "print()\n",
    "\n",
    "print(\"Configuration B: ɛ-constrained method\")\n",
    "print(\"{:<5s} {:<10s} {:<10s} {:<10s} {:<10s}\".format(\"Run\", \"Mean\", \"Min\", \"Max\", \"Std Dev\"))\n",
    "for row in table_b:\n",
    "    print(\"{:<5d} {:<10.4f} {:<10.4f} {:<10.4f} {:<10.4f}\".format(*row))"
   ]
  },
  {
   "cell_type": "code",
   "execution_count": 68,
   "metadata": {},
   "outputs": [],
   "source": [
    "mean_col_a = []    \n",
    "min_col_a = []  \n",
    "max_col_a = [] \n",
    "std_col_a = []\n",
    "\n",
    "mean_col_b = []\n",
    "min_col_b = []\n",
    "max_col_b = []\n",
    "std_col_b = []\n",
    "\n",
    "for row in table_a:\n",
    "    mean_col_a.append(table_a[row[0]-1][1])\n",
    "    min_col_a.append(table_a[row[0]-1][2])\n",
    "    max_col_a.append(table_a[row[0]-1][3])\n",
    "    std_col_a.append(table_a[row[0]-1][4])\n",
    "    mean_col_b.append(table_b[row[0]-1][1])\n",
    "    min_col_b.append(table_b[row[0]-1][2])\n",
    "    max_col_b.append(table_b[row[0]-1][3])\n",
    "    std_col_b.append(table_b[row[0]-1][4])"
   ]
  },
  {
   "cell_type": "code",
   "execution_count": 78,
   "metadata": {},
   "outputs": [
    {
     "data": {
      "text/plain": [
       "{'mean': [-12.299521162165275, -12.18405389361785],\n",
       " 'min': [-14.658807152813758, -14.691385743992324],\n",
       " 'max': [-1.877960322295721, -2.0884170407687868],\n",
       " 'std': [0.24854938594424658, 0.3172158149320576]}"
      ]
     },
     "execution_count": 78,
     "metadata": {},
     "output_type": "execute_result"
    }
   ],
   "source": [
    "dictionary = {'mean': [statistics.mean(mean_col_a), statistics.mean(mean_col_b)], 'min': [min(min_col_a), min(min_col_b)], \n",
    "              'max': [max(max_col_a), max(max_col_b)], 'std':[statistics.stdev(std_col_a), statistics.stdev(std_col_b)]}\n",
    "dictionary"
   ]
  },
  {
   "cell_type": "code",
   "execution_count": 83,
   "metadata": {},
   "outputs": [
    {
     "data": {
      "text/html": [
       "<div>\n",
       "<style scoped>\n",
       "    .dataframe tbody tr th:only-of-type {\n",
       "        vertical-align: middle;\n",
       "    }\n",
       "\n",
       "    .dataframe tbody tr th {\n",
       "        vertical-align: top;\n",
       "    }\n",
       "\n",
       "    .dataframe thead th {\n",
       "        text-align: right;\n",
       "    }\n",
       "</style>\n",
       "<table border=\"1\" class=\"dataframe\">\n",
       "  <thead>\n",
       "    <tr style=\"text-align: right;\">\n",
       "      <th></th>\n",
       "      <th>mean</th>\n",
       "      <th>min</th>\n",
       "      <th>max</th>\n",
       "      <th>std</th>\n",
       "    </tr>\n",
       "  </thead>\n",
       "  <tbody>\n",
       "    <tr>\n",
       "      <th>0</th>\n",
       "      <td>-12.299521</td>\n",
       "      <td>-14.658807</td>\n",
       "      <td>-1.877960</td>\n",
       "      <td>0.248549</td>\n",
       "    </tr>\n",
       "    <tr>\n",
       "      <th>1</th>\n",
       "      <td>-12.184054</td>\n",
       "      <td>-14.691386</td>\n",
       "      <td>-2.088417</td>\n",
       "      <td>0.317216</td>\n",
       "    </tr>\n",
       "  </tbody>\n",
       "</table>\n",
       "</div>"
      ],
      "text/plain": [
       "        mean        min       max       std\n",
       "0 -12.299521 -14.658807 -1.877960  0.248549\n",
       "1 -12.184054 -14.691386 -2.088417  0.317216"
      ]
     },
     "execution_count": 83,
     "metadata": {},
     "output_type": "execute_result"
    }
   ],
   "source": [
    "df = pd.DataFrame(data=dictionary)\n",
    "df"
   ]
  },
  {
   "cell_type": "code",
   "execution_count": 81,
   "metadata": {},
   "outputs": [
    {
     "data": {
      "text/plain": [
       "<AxesSubplot: xlabel='mean'>"
      ]
     },
     "execution_count": 81,
     "metadata": {},
     "output_type": "execute_result"
    },
    {
     "data": {
      "image/png": "[encoded data removed]",
      "text/plain": [
       "<Figure size 640x480 with 1 Axes>"
      ]
     },
     "metadata": {},
     "output_type": "display_data"
    }
   ],
   "source": [
    "# Configuração das cores dos boxplots\n",
    "cores = ['blue', 'red', 'green', 'orange']\n",
    "\n",
    "# Criação da figura e do eixo\n",
    "fig, ax = plt.subplots()\n",
    "\n",
    "# Criação dos boxplots\n",
    "bp = ax.boxplot(df, patch_artist=True, notch=True)\n",
    "\n",
    "# Personalização das cores dos boxplots\n",
    "for box, cor in zip(bp['boxes'], cores):\n",
    "    box.set(color=cor, linewidth=2)\n",
    "    box.set(facecolor='lightgray')\n",
    "\n",
    "# Personalização dos outliers\n",
    "for flier in bp['fliers']:\n",
    "    flier.set(marker='o', color='black', alpha=0.5)\n",
    "\n",
    "# Personalização das medianas\n",
    "for median in bp['medians']:\n",
    "    median.set(color='black', linewidth=2)\n",
    "\n",
    "# Personalização das whiskers\n",
    "for whisker in bp['whiskers']:\n",
    "    whisker.set(color='black', linewidth=1.5, linestyle='--')\n",
    "\n",
    "# Personalização dos caps\n",
    "for cap in bp['caps']:\n",
    "    cap.set(color='black', linewidth=1.5)\n",
    "\n",
    "# Rótulos dos eixos x\n",
    "labels = ['Média', 'Mínimo', 'Máximo', 'Desvio Padrão']\n",
    "ax.set_xticklabels(labels)\n",
    "\n",
    "# Título do gráfico\n",
    "ax.set_title('Boxplot das Métricas')\n",
    "\n",
    "# Exibição do gráfico\n",
    "plt.show()"
   ]
  },
  {
   "cell_type": "code",
   "execution_count": null,
   "metadata": {},
   "outputs": [],
   "source": []
  }
 ],
 "metadata": {
  "kernelspec": {
   "display_name": "base",
   "language": "python",
   "name": "python3"
  },
  "language_info": {
   "codemirror_mode": {
    "name": "ipython",
    "version": 3
   },
   "file_extension": ".py",
   "mimetype": "text/x-python",
   "name": "python",
   "nbconvert_exporter": "python",
   "pygments_lexer": "ipython3",
   "version": "3.9.16"
  },
  "orig_nbformat": 4
 },
 "nbformat": 4,
 "nbformat_minor": 2
}
